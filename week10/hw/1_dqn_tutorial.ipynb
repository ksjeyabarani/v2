{
 "cells": [
  {
   "cell_type": "markdown",
   "metadata": {
    "colab_type": "text",
    "id": "klGNgWREsvQv"
   },
   "source": [
    "##### Copyright 2018 The TF-Agents Authors."
   ]
  },
  {
   "cell_type": "code",
   "execution_count": 1,
   "metadata": {
    "cellView": "form",
    "colab": {},
    "colab_type": "code",
    "id": "nQnmcm0oI1Q-"
   },
   "outputs": [],
   "source": [
    "#@title Licensed under the Apache License, Version 2.0 (the \"License\");\n",
    "# you may not use this file except in compliance with the License.\n",
    "# You may obtain a copy of the License at\n",
    "#\n",
    "# https://www.apache.org/licenses/LICENSE-2.0\n",
    "#\n",
    "# Unless required by applicable law or agreed to in writing, software\n",
    "# distributed under the License is distributed on an \"AS IS\" BASIS,\n",
    "# WITHOUT WARRANTIES OR CONDITIONS OF ANY KIND, either express or implied.\n",
    "# See the License for the specific language governing permissions and\n",
    "# limitations under the License."
   ]
  },
  {
   "cell_type": "markdown",
   "metadata": {
    "colab_type": "text",
    "id": "pmDI-h7cI0tI"
   },
   "source": [
    "# Train a Deep Q Network with TF-Agents\n",
    "\n",
    "<table class=\"tfo-notebook-buttons\" align=\"left\">\n",
    "  <td>\n",
    "    <a target=\"_blank\" href=\"https://www.tensorflow.org/agents/tutorials/1_dqn_tutorial\">\n",
    "    <img src=\"https://www.tensorflow.org/images/tf_logo_32px.png\" />\n",
    "    View on TensorFlow.org</a>\n",
    "  </td>\n",
    "  <td>\n",
    "    <a target=\"_blank\" href=\"https://colab.research.google.com/github/tensorflow/agents/blob/master/docs/tutorials/1_dqn_tutorial.ipynb\">\n",
    "    <img src=\"https://www.tensorflow.org/images/colab_logo_32px.png\" />\n",
    "    Run in Google Colab</a>\n",
    "  </td>\n",
    "  <td>\n",
    "    <a target=\"_blank\" href=\"https://github.com/tensorflow/agents/blob/master/docs/tutorials/1_dqn_tutorial.ipynb\">\n",
    "    <img src=\"https://www.tensorflow.org/images/GitHub-Mark-32px.png\" />\n",
    "    View source on GitHub</a>\n",
    "  </td>\n",
    "  <td>\n",
    "    <a href=\"https://storage.googleapis.com/tensorflow_docs/agents/docs/tutorials/1_dqn_tutorial.ipynb\"><img src=\"https://www.tensorflow.org/images/download_logo_32px.png\" />Download notebook</a>\n",
    "  </td>\n",
    "</table>"
   ]
  },
  {
   "cell_type": "markdown",
   "metadata": {
    "colab_type": "text",
    "id": "lsaQlK8fFQqH"
   },
   "source": [
    "## Introduction\n"
   ]
  },
  {
   "cell_type": "markdown",
   "metadata": {
    "colab_type": "text",
    "id": "cKOCZlhUgXVK"
   },
   "source": [
    "This example shows how to train a [DQN (Deep Q Networks)](https://storage.googleapis.com/deepmind-media/dqn/DQNNaturePaper.pdf)  agent on the Cartpole environment using the TF-Agents library.\n",
    "\n",
    "![Cartpole environment](https://raw.githubusercontent.com/tensorflow/agents/master/docs/tutorials/images/cartpole.png)\n",
    "\n",
    "It will walk you through all the components in a Reinforcement Learning (RL) pipeline for training, evaluation and data collection.\n",
    "\n",
    "\n",
    "To run this code live, click the 'Run in Google Colab' link above.\n"
   ]
  },
  {
   "cell_type": "markdown",
   "metadata": {
    "colab_type": "text",
    "id": "1u9QVVsShC9X"
   },
   "source": [
    "## Setup"
   ]
  },
  {
   "cell_type": "markdown",
   "metadata": {
    "colab_type": "text",
    "id": "kNrNXKI7bINP"
   },
   "source": [
    "If you haven't installed the following dependencies, run:"
   ]
  },
  {
   "cell_type": "code",
   "execution_count": 2,
   "metadata": {
    "colab": {},
    "colab_type": "code",
    "id": "KEHR2Ui-lo8O"
   },
   "outputs": [
    {
     "name": "stdout",
     "output_type": "stream",
     "text": [
      "\r",
      "Reading package lists... 0%\r",
      "\r",
      "Reading package lists... 100%\r",
      "\r",
      "Reading package lists... Done\r",
      "\r\n",
      "\r",
      "Building dependency tree... 0%\r",
      "\r",
      "Building dependency tree... 0%\r"
     ]
    },
    {
     "name": "stdout",
     "output_type": "stream",
     "text": [
      "\r",
      "Building dependency tree... 50%\r",
      "\r",
      "Building dependency tree... 50%\r"
     ]
    },
    {
     "name": "stdout",
     "output_type": "stream",
     "text": [
      "\r",
      "Building dependency tree       \r",
      "\r\n",
      "\r",
      "Reading state information... 0%\r",
      "\r",
      "Reading state information... 0%\r",
      "\r",
      "Reading state information... Done\r",
      "\r\n",
      "ffmpeg is already the newest version (7:3.4.6-0ubuntu0.18.04.1).\r\n",
      "xvfb is already the newest version (2:1.19.6-1ubuntu4.4).\r\n"
     ]
    },
    {
     "name": "stdout",
     "output_type": "stream",
     "text": [
      "0 upgraded, 0 newly installed, 0 to remove and 108 not upgraded.\r\n"
     ]
    }
   ],
   "source": [
    "!sudo apt-get install -y xvfb ffmpeg\n",
    "!pip install -q 'gym==0.10.11'\n",
    "!pip install -q 'imageio==2.4.0'\n",
    "!pip install -q PILLOW\n",
    "!pip install -q 'pyglet==1.3.2'\n",
    "!pip install -q pyvirtualdisplay\n",
    "!pip install -q tf-agents"
   ]
  },
  {
   "cell_type": "code",
   "execution_count": 3,
   "metadata": {
    "colab": {},
    "colab_type": "code",
    "id": "sMitx5qSgJk1"
   },
   "outputs": [],
   "source": [
    "from __future__ import absolute_import, division, print_function\n",
    "\n",
    "import base64\n",
    "import imageio\n",
    "import IPython\n",
    "import matplotlib\n",
    "import matplotlib.pyplot as plt\n",
    "import numpy as np\n",
    "import PIL.Image\n",
    "import pyvirtualdisplay\n",
    "\n",
    "import tensorflow as tf\n",
    "\n",
    "from tf_agents.agents.dqn import dqn_agent\n",
    "from tf_agents.drivers import dynamic_step_driver\n",
    "from tf_agents.environments import suite_gym\n",
    "from tf_agents.environments import tf_py_environment\n",
    "from tf_agents.eval import metric_utils\n",
    "from tf_agents.metrics import tf_metrics\n",
    "from tf_agents.networks import q_network\n",
    "from tf_agents.policies import random_tf_policy\n",
    "from tf_agents.replay_buffers import tf_uniform_replay_buffer\n",
    "from tf_agents.trajectories import trajectory\n",
    "from tf_agents.utils import common"
   ]
  },
  {
   "cell_type": "code",
   "execution_count": 4,
   "metadata": {
    "colab": {},
    "colab_type": "code",
    "id": "J6HsdS5GbSjd"
   },
   "outputs": [],
   "source": [
    "tf.compat.v1.enable_v2_behavior()\n",
    "\n",
    "# Set up a virtual display for rendering OpenAI gym environments.\n",
    "display = pyvirtualdisplay.Display(visible=0, size=(1400, 900)).start()"
   ]
  },
  {
   "cell_type": "code",
   "execution_count": 5,
   "metadata": {
    "colab": {},
    "colab_type": "code",
    "id": "NspmzG4nP3b9"
   },
   "outputs": [
    {
     "data": {
      "text/plain": [
       "'2.2.0'"
      ]
     },
     "execution_count": 5,
     "metadata": {},
     "output_type": "execute_result"
    }
   ],
   "source": [
    "tf.version.VERSION"
   ]
  },
  {
   "cell_type": "markdown",
   "metadata": {
    "colab_type": "text",
    "id": "LmC0NDhdLIKY"
   },
   "source": [
    "## Hyperparameters"
   ]
  },
  {
   "cell_type": "code",
   "execution_count": 6,
   "metadata": {
    "colab": {},
    "colab_type": "code",
    "id": "HC1kNrOsLSIZ"
   },
   "outputs": [],
   "source": [
    "num_iterations = 20000 # @param {type:\"integer\"}\n",
    "\n",
    "initial_collect_steps = 1000  # @param {type:\"integer\"} \n",
    "collect_steps_per_iteration = 1  # @param {type:\"integer\"}\n",
    "replay_buffer_max_length = 100000  # @param {type:\"integer\"}\n",
    "\n",
    "batch_size = 64  # @param {type:\"integer\"}\n",
    "learning_rate = 1e-3  # @param {type:\"number\"}\n",
    "log_interval = 200  # @param {type:\"integer\"}\n",
    "\n",
    "num_eval_episodes = 10  # @param {type:\"integer\"}\n",
    "eval_interval = 1000  # @param {type:\"integer\"}"
   ]
  },
  {
   "cell_type": "markdown",
   "metadata": {
    "colab_type": "text",
    "id": "VMsJC3DEgI0x"
   },
   "source": [
    "## Environment\n",
    "\n",
    "In Reinforcement Learning (RL), an environment represents the task or problem to be solved. Standard environments can be created in TF-Agents using `tf_agents.environments` suites. TF-Agents has suites for loading environments from sources such as the OpenAI Gym, Atari, and DM Control.\n",
    "\n",
    "Load the CartPole environment from the OpenAI Gym suite. "
   ]
  },
  {
   "cell_type": "code",
   "execution_count": 7,
   "metadata": {
    "colab": {},
    "colab_type": "code",
    "id": "pYEz-S9gEv2-"
   },
   "outputs": [],
   "source": [
    "env_name = 'CartPole-v0'\n",
    "env = suite_gym.load(env_name)"
   ]
  },
  {
   "cell_type": "markdown",
   "metadata": {
    "colab_type": "text",
    "id": "IIHYVBkuvPNw"
   },
   "source": [
    "You can render this environment to see how it looks. A free-swinging pole is attached to a cart.  The goal is to move the cart right or left in order to keep the pole pointing up."
   ]
  },
  {
   "cell_type": "code",
   "execution_count": 8,
   "metadata": {
    "colab": {},
    "colab_type": "code",
    "id": "RlO7WIQHu_7D"
   },
   "outputs": [
    {
     "data": {
      "image/png": "[encoded data removed]",
      "text/plain": [
       "<PIL.Image.Image image mode=RGB size=600x400 at 0x7F3BFC6EB668>"
      ]
     },
     "execution_count": 8,
     "metadata": {},
     "output_type": "execute_result"
    }
   ],
   "source": [
    "#@test {\"skip\": true}\n",
    "env.reset()\n",
    "PIL.Image.fromarray(env.render())"
   ]
  },
  {
   "cell_type": "markdown",
   "metadata": {
    "colab_type": "text",
    "id": "B9_lskPOey18"
   },
   "source": [
    "The `environment.step` method takes an `action` in the environment and returns a `TimeStep` tuple containing the next observation of the environment and the reward for the action.\n",
    "\n",
    "The `time_step_spec()` method returns the specification for the `TimeStep` tuple. Its `observation` attribute shows the shape of observations, the data types, and the ranges of allowed values. The `reward` attribute shows the same details for the reward.\n"
   ]
  },
  {
   "cell_type": "code",
   "execution_count": 9,
   "metadata": {
    "colab": {},
    "colab_type": "code",
    "id": "exDv57iHfwQV"
   },
   "outputs": [
    {
     "name": "stdout",
     "output_type": "stream",
     "text": [
      "Observation Spec:\n",
      "BoundedArraySpec(shape=(4,), dtype=dtype('float32'), name='observation', minimum=[-4.8000002e+00 -3.4028235e+38 -4.1887903e-01 -3.4028235e+38], maximum=[4.8000002e+00 3.4028235e+38 4.1887903e-01 3.4028235e+38])\n"
     ]
    }
   ],
   "source": [
    "print('Observation Spec:')\n",
    "print(env.time_step_spec().observation)"
   ]
  },
  {
   "cell_type": "code",
   "execution_count": 10,
   "metadata": {
    "colab": {},
    "colab_type": "code",
    "id": "UxiSyCbBUQPi"
   },
   "outputs": [
    {
     "name": "stdout",
     "output_type": "stream",
     "text": [
      "Reward Spec:\n",
      "ArraySpec(shape=(), dtype=dtype('float32'), name='reward')\n"
     ]
    }
   ],
   "source": [
    "print('Reward Spec:')\n",
    "print(env.time_step_spec().reward)"
   ]
  },
  {
   "cell_type": "markdown",
   "metadata": {
    "colab_type": "text",
    "id": "b_lHcIcqUaqB"
   },
   "source": [
    "The `action_spec()` method returns the shape, data types, and allowed values of valid actions."
   ]
  },
  {
   "cell_type": "code",
   "execution_count": 11,
   "metadata": {
    "colab": {},
    "colab_type": "code",
    "id": "bttJ4uxZUQBr"
   },
   "outputs": [
    {
     "name": "stdout",
     "output_type": "stream",
     "text": [
      "Action Spec:\n",
      "BoundedArraySpec(shape=(), dtype=dtype('int64'), name='action', minimum=0, maximum=1)\n"
     ]
    }
   ],
   "source": [
    "print('Action Spec:')\n",
    "print(env.action_spec())"
   ]
  },
  {
   "cell_type": "markdown",
   "metadata": {
    "colab_type": "text",
    "id": "eJCgJnx3g0yY"
   },
   "source": [
    "In the Cartpole environment:\n",
    "\n",
    "-   `observation` is an array of 4 floats: \n",
    "    -   the position and velocity of the cart\n",
    "    -   the angular position and velocity of the pole \n",
    "-   `reward` is a scalar float value\n",
    "-   `action` is a scalar integer with only two possible values:\n",
    "    -   `0` — \"move left\"\n",
    "    -   `1` — \"move right\"\n"
   ]
  },
  {
   "cell_type": "code",
   "execution_count": 12,
   "metadata": {
    "colab": {},
    "colab_type": "code",
    "id": "V2UGR5t_iZX-"
   },
   "outputs": [
    {
     "name": "stdout",
     "output_type": "stream",
     "text": [
      "Time step:\n",
      "TimeStep(step_type=array(0, dtype=int32), reward=array(0., dtype=float32), discount=array(1., dtype=float32), observation=array([ 0.03362545,  0.00367401, -0.00529881,  0.02672447], dtype=float32))\n",
      "Next time step:\n",
      "TimeStep(step_type=array(1, dtype=int32), reward=array(1., dtype=float32), discount=array(1., dtype=float32), observation=array([ 0.03369893,  0.19887155, -0.00476432, -0.26762557], dtype=float32))\n"
     ]
    }
   ],
   "source": [
    "time_step = env.reset()\n",
    "print('Time step:')\n",
    "print(time_step)\n",
    "\n",
    "action = np.array(1, dtype=np.int32)\n",
    "\n",
    "next_time_step = env.step(action)\n",
    "print('Next time step:')\n",
    "print(next_time_step)"
   ]
  },
  {
   "cell_type": "markdown",
   "metadata": {
    "colab_type": "text",
    "id": "4JSc9GviWUBK"
   },
   "source": [
    "Usually two environments are instantiated: one for training and one for evaluation. "
   ]
  },
  {
   "cell_type": "code",
   "execution_count": 13,
   "metadata": {
    "colab": {},
    "colab_type": "code",
    "id": "N7brXNIGWXjC"
   },
   "outputs": [],
   "source": [
    "train_py_env = suite_gym.load(env_name)\n",
    "eval_py_env = suite_gym.load(env_name)"
   ]
  },
  {
   "cell_type": "markdown",
   "metadata": {
    "colab_type": "text",
    "id": "zuUqXAVmecTU"
   },
   "source": [
    "The Cartpole environment, like most environments, is written in pure Python. This is converted to TensorFlow using the `TFPyEnvironment` wrapper.\n",
    "\n",
    "The original environment's API uses Numpy arrays. The `TFPyEnvironment` converts these to `Tensors` to make it compatible with Tensorflow agents and policies.\n"
   ]
  },
  {
   "cell_type": "code",
   "execution_count": 14,
   "metadata": {
    "colab": {},
    "colab_type": "code",
    "id": "Xp-Y4mD6eDhF"
   },
   "outputs": [],
   "source": [
    "train_env = tf_py_environment.TFPyEnvironment(train_py_env)\n",
    "eval_env = tf_py_environment.TFPyEnvironment(eval_py_env)"
   ]
  },
  {
   "cell_type": "markdown",
   "metadata": {
    "colab_type": "text",
    "id": "E9lW_OZYFR8A"
   },
   "source": [
    "## Agent\n",
    "\n",
    "The algorithm used to solve an RL problem is represented by an `Agent`. TF-Agents provides standard implementations of a variety of `Agents`, including:\n",
    "\n",
    "-   [DQN](https://storage.googleapis.com/deepmind-media/dqn/DQNNaturePaper.pdf) (used in this tutorial)\n",
    "-   [REINFORCE](http://www-anw.cs.umass.edu/~barto/courses/cs687/williams92simple.pdf)\n",
    "-   [DDPG](https://arxiv.org/pdf/1509.02971.pdf)\n",
    "-   [TD3](https://arxiv.org/pdf/1802.09477.pdf)\n",
    "-   [PPO](https://arxiv.org/abs/1707.06347)\n",
    "-   [SAC](https://arxiv.org/abs/1801.01290).\n",
    "\n",
    "The DQN agent can be used in any environment which has a discrete action space.\n",
    "\n",
    "At the heart of a DQN Agent is a `QNetwork`, a neural network model that can learn to predict `QValues` (expected returns) for all actions, given an observation from the environment.\n",
    "\n",
    "Use `tf_agents.networks.q_network` to create a `QNetwork`, passing in the `observation_spec`, `action_spec`, and a tuple describing the number and size of the model's hidden layers.\n"
   ]
  },
  {
   "cell_type": "code",
   "execution_count": 15,
   "metadata": {
    "colab": {},
    "colab_type": "code",
    "id": "TgkdEPg_muzV"
   },
   "outputs": [],
   "source": [
    "fc_layer_params = (100,)\n",
    "\n",
    "q_net = q_network.QNetwork(\n",
    "    train_env.observation_spec(),\n",
    "    train_env.action_spec(),\n",
    "    fc_layer_params=fc_layer_params)"
   ]
  },
  {
   "cell_type": "markdown",
   "metadata": {
    "colab_type": "text",
    "id": "z62u55hSmviJ"
   },
   "source": [
    "Now use `tf_agents.agents.dqn.dqn_agent` to instantiate a `DqnAgent`. In addition to the `time_step_spec`, `action_spec` and the QNetwork, the agent constructor also requires an optimizer (in this case, `AdamOptimizer`), a loss function, and an integer step counter."
   ]
  },
  {
   "cell_type": "code",
   "execution_count": 16,
   "metadata": {
    "colab": {},
    "colab_type": "code",
    "id": "jbY4yrjTEyc9"
   },
   "outputs": [],
   "source": [
    "optimizer = tf.compat.v1.train.AdamOptimizer(learning_rate=learning_rate)\n",
    "\n",
    "train_step_counter = tf.Variable(0)\n",
    "\n",
    "agent = dqn_agent.DqnAgent(\n",
    "    train_env.time_step_spec(),\n",
    "    train_env.action_spec(),\n",
    "    q_network=q_net,\n",
    "    optimizer=optimizer,\n",
    "    td_errors_loss_fn=common.element_wise_squared_loss,\n",
    "    train_step_counter=train_step_counter)\n",
    "\n",
    "agent.initialize()"
   ]
  },
  {
   "cell_type": "markdown",
   "metadata": {
    "colab_type": "text",
    "id": "I0KLrEPwkn5x"
   },
   "source": [
    "## Policies\n",
    "\n",
    "A policy defines the way an agent acts in an environment. Typically, the goal of reinforcement learning is to train the underlying model until the policy produces the desired outcome.\n",
    "\n",
    "In this tutorial:\n",
    "\n",
    "-   The desired outcome is keeping the pole balanced upright over the cart.\n",
    "-   The policy returns an action (left or right) for each `time_step` observation.\n",
    "\n",
    "Agents contain two policies: \n",
    "\n",
    "-   `agent.policy` — The main policy that is used for evaluation and deployment.\n",
    "-   `agent.collect_policy` — A second policy that is used for data collection.\n"
   ]
  },
  {
   "cell_type": "code",
   "execution_count": 17,
   "metadata": {
    "colab": {},
    "colab_type": "code",
    "id": "BwY7StuMkuV4"
   },
   "outputs": [],
   "source": [
    "eval_policy = agent.policy\n",
    "collect_policy = agent.collect_policy"
   ]
  },
  {
   "cell_type": "markdown",
   "metadata": {
    "colab_type": "text",
    "id": "2Qs1Fl3dV0ae"
   },
   "source": [
    "Policies can be created independently of agents. For example, use `tf_agents.policies.random_tf_policy` to create a policy which will randomly select an action for each `time_step`."
   ]
  },
  {
   "cell_type": "code",
   "execution_count": 18,
   "metadata": {
    "colab": {},
    "colab_type": "code",
    "id": "HE37-UCIrE69"
   },
   "outputs": [],
   "source": [
    "random_policy = random_tf_policy.RandomTFPolicy(train_env.time_step_spec(),\n",
    "                                                train_env.action_spec())"
   ]
  },
  {
   "cell_type": "markdown",
   "metadata": {
    "colab_type": "text",
    "id": "dOlnlRRsUbxP"
   },
   "source": [
    "To get an action from a policy, call the `policy.action(time_step)` method. The `time_step` contains the observation from the environment. This method returns a `PolicyStep`, which is a named tuple with three components:\n",
    "\n",
    "-   `action` — the action to be taken (in this case, `0` or `1`)\n",
    "-   `state` — used for stateful (that is, RNN-based) policies\n",
    "-   `info` — auxiliary data, such as log probabilities of actions"
   ]
  },
  {
   "cell_type": "code",
   "execution_count": 19,
   "metadata": {
    "colab": {},
    "colab_type": "code",
    "id": "5gCcpXswVAxk"
   },
   "outputs": [],
   "source": [
    "example_environment = tf_py_environment.TFPyEnvironment(\n",
    "    suite_gym.load('CartPole-v0'))"
   ]
  },
  {
   "cell_type": "code",
   "execution_count": 20,
   "metadata": {
    "colab": {},
    "colab_type": "code",
    "id": "D4DHZtq3Ndis"
   },
   "outputs": [],
   "source": [
    "time_step = example_environment.reset()"
   ]
  },
  {
   "cell_type": "code",
   "execution_count": 21,
   "metadata": {
    "colab": {},
    "colab_type": "code",
    "id": "PRFqAUzpNaAW"
   },
   "outputs": [
    {
     "data": {
      "text/plain": [
       "PolicyStep(action=<tf.Tensor: shape=(1,), dtype=int64, numpy=array([1])>, state=(), info=())"
      ]
     },
     "execution_count": 21,
     "metadata": {},
     "output_type": "execute_result"
    }
   ],
   "source": [
    "random_policy.action(time_step)"
   ]
  },
  {
   "cell_type": "markdown",
   "metadata": {
    "colab_type": "text",
    "id": "94rCXQtbUbXv"
   },
   "source": [
    "## Metrics and Evaluation\n",
    "\n",
    "The most common metric used to evaluate a policy is the average return. The return is the sum of rewards obtained while running a policy in an environment for an episode. Several episodes are run, creating an average return.\n",
    "\n",
    "The following function computes the average return of a policy, given the policy, environment, and a number of episodes.\n"
   ]
  },
  {
   "cell_type": "code",
   "execution_count": 22,
   "metadata": {
    "colab": {},
    "colab_type": "code",
    "id": "bitzHo5_UbXy"
   },
   "outputs": [],
   "source": [
    "#@test {\"skip\": true}\n",
    "def compute_avg_return(environment, policy, num_episodes=10):\n",
    "\n",
    "  total_return = 0.0\n",
    "  for _ in range(num_episodes):\n",
    "\n",
    "    time_step = environment.reset()\n",
    "    episode_return = 0.0\n",
    "\n",
    "    while not time_step.is_last():\n",
    "      action_step = policy.action(time_step)\n",
    "      time_step = environment.step(action_step.action)\n",
    "      episode_return += time_step.reward\n",
    "    total_return += episode_return\n",
    "\n",
    "  avg_return = total_return / num_episodes\n",
    "  return avg_return.numpy()[0]\n",
    "\n",
    "\n",
    "# See also the metrics module for standard implementations of different metrics.\n",
    "# https://github.com/tensorflow/agents/tree/master/tf_agents/metrics"
   ]
  },
  {
   "cell_type": "markdown",
   "metadata": {
    "colab_type": "text",
    "id": "_snCVvq5Z8lJ"
   },
   "source": [
    "Running this computation on the `random_policy` shows a baseline performance in the environment."
   ]
  },
  {
   "cell_type": "code",
   "execution_count": 23,
   "metadata": {
    "colab": {},
    "colab_type": "code",
    "id": "9bgU6Q6BZ8Bp"
   },
   "outputs": [
    {
     "data": {
      "text/plain": [
       "26.9"
      ]
     },
     "execution_count": 23,
     "metadata": {},
     "output_type": "execute_result"
    }
   ],
   "source": [
    "compute_avg_return(eval_env, random_policy, num_eval_episodes)"
   ]
  },
  {
   "cell_type": "markdown",
   "metadata": {
    "colab_type": "text",
    "id": "NLva6g2jdWgr"
   },
   "source": [
    "## Replay Buffer\n",
    "\n",
    "The replay buffer keeps track of data collected from the environment. This tutorial uses `tf_agents.replay_buffers.tf_uniform_replay_buffer.TFUniformReplayBuffer`, as it is the most common. \n",
    "\n",
    "The constructor requires the specs for the data it will be collecting. This is available from the agent using the `collect_data_spec` method. The batch size and maximum buffer length are also required.\n"
   ]
  },
  {
   "cell_type": "code",
   "execution_count": 24,
   "metadata": {
    "colab": {},
    "colab_type": "code",
    "id": "vX2zGUWJGWAl"
   },
   "outputs": [],
   "source": [
    "replay_buffer = tf_uniform_replay_buffer.TFUniformReplayBuffer(\n",
    "    data_spec=agent.collect_data_spec,\n",
    "    batch_size=train_env.batch_size,\n",
    "    max_length=replay_buffer_max_length)"
   ]
  },
  {
   "cell_type": "markdown",
   "metadata": {
    "colab_type": "text",
    "id": "ZGNTDJpZs4NN"
   },
   "source": [
    "For most agents, `collect_data_spec` is a named tuple called `Trajectory`, containing the specs for observations, actions, rewards, and other items."
   ]
  },
  {
   "cell_type": "code",
   "execution_count": 25,
   "metadata": {
    "colab": {},
    "colab_type": "code",
    "id": "_IZ-3HcqgE1z"
   },
   "outputs": [
    {
     "data": {
      "text/plain": [
       "Trajectory(step_type=TensorSpec(shape=(), dtype=tf.int32, name='step_type'), observation=BoundedTensorSpec(shape=(4,), dtype=tf.float32, name='observation', minimum=array([-4.8000002e+00, -3.4028235e+38, -4.1887903e-01, -3.4028235e+38],\n",
       "      dtype=float32), maximum=array([4.8000002e+00, 3.4028235e+38, 4.1887903e-01, 3.4028235e+38],\n",
       "      dtype=float32)), action=BoundedTensorSpec(shape=(), dtype=tf.int64, name='action', minimum=array(0), maximum=array(1)), policy_info=(), next_step_type=TensorSpec(shape=(), dtype=tf.int32, name='step_type'), reward=TensorSpec(shape=(), dtype=tf.float32, name='reward'), discount=BoundedTensorSpec(shape=(), dtype=tf.float32, name='discount', minimum=array(0., dtype=float32), maximum=array(1., dtype=float32)))"
      ]
     },
     "execution_count": 25,
     "metadata": {},
     "output_type": "execute_result"
    }
   ],
   "source": [
    "agent.collect_data_spec"
   ]
  },
  {
   "cell_type": "code",
   "execution_count": 26,
   "metadata": {
    "colab": {},
    "colab_type": "code",
    "id": "sy6g1tGcfRlw"
   },
   "outputs": [
    {
     "data": {
      "text/plain": [
       "('step_type',\n",
       " 'observation',\n",
       " 'action',\n",
       " 'policy_info',\n",
       " 'next_step_type',\n",
       " 'reward',\n",
       " 'discount')"
      ]
     },
     "execution_count": 26,
     "metadata": {},
     "output_type": "execute_result"
    }
   ],
   "source": [
    "agent.collect_data_spec._fields"
   ]
  },
  {
   "cell_type": "markdown",
   "metadata": {
    "colab_type": "text",
    "id": "rVD5nQ9ZGo8_"
   },
   "source": [
    "## Data Collection\n",
    "\n",
    "Now execute the random policy in the environment for a few steps, recording the data in the replay buffer."
   ]
  },
  {
   "cell_type": "code",
   "execution_count": 27,
   "metadata": {
    "colab": {},
    "colab_type": "code",
    "id": "wr1KSAEGG4h9"
   },
   "outputs": [],
   "source": [
    "#@test {\"skip\": true}\n",
    "def collect_step(environment, policy, buffer):\n",
    "  time_step = environment.current_time_step()\n",
    "  action_step = policy.action(time_step)\n",
    "  next_time_step = environment.step(action_step.action)\n",
    "  traj = trajectory.from_transition(time_step, action_step, next_time_step)\n",
    "\n",
    "  # Add trajectory to the replay buffer\n",
    "  buffer.add_batch(traj)\n",
    "\n",
    "def collect_data(env, policy, buffer, steps):\n",
    "  for _ in range(steps):\n",
    "    collect_step(env, policy, buffer)\n",
    "\n",
    "collect_data(train_env, random_policy, replay_buffer, steps=100)\n",
    "\n",
    "# This loop is so common in RL, that we provide standard implementations. \n",
    "# For more details see the drivers module.\n",
    "# https://www.tensorflow.org/agents/api_docs/python/tf_agents/drivers"
   ]
  },
  {
   "cell_type": "markdown",
   "metadata": {
    "colab_type": "text",
    "id": "84z5pQJdoKxo"
   },
   "source": [
    "The replay buffer is now a collection of Trajectories."
   ]
  },
  {
   "cell_type": "code",
   "execution_count": 28,
   "metadata": {
    "colab": {},
    "colab_type": "code",
    "id": "4wZnLu2ViO4E"
   },
   "outputs": [],
   "source": [
    "# For the curious:\n",
    "# Uncomment to peel one of these off and inspect it.\n",
    "# iter(replay_buffer.as_dataset()).next()"
   ]
  },
  {
   "cell_type": "markdown",
   "metadata": {
    "colab_type": "text",
    "id": "TujU-PMUsKjS"
   },
   "source": [
    "The agent needs access to the replay buffer. This is provided by creating an iterable `tf.data.Dataset` pipeline which will feed data to the agent.\n",
    "\n",
    "Each row of the replay buffer only stores a single observation step. But since the DQN Agent needs both the current and next observation to compute the loss, the dataset pipeline will sample two adjacent rows for each item in the batch (`num_steps=2`).\n",
    "\n",
    "This dataset is also optimized by running parallel calls and prefetching data."
   ]
  },
  {
   "cell_type": "code",
   "execution_count": 29,
   "metadata": {
    "colab": {},
    "colab_type": "code",
    "id": "ba7bilizt_qW"
   },
   "outputs": [
    {
     "data": {
      "text/plain": [
       "<PrefetchDataset shapes: (Trajectory(step_type=(64, 2), observation=(64, 2, 4), action=(64, 2), policy_info=(), next_step_type=(64, 2), reward=(64, 2), discount=(64, 2)), BufferInfo(ids=(64, 2), probabilities=(64,))), types: (Trajectory(step_type=tf.int32, observation=tf.float32, action=tf.int64, policy_info=(), next_step_type=tf.int32, reward=tf.float32, discount=tf.float32), BufferInfo(ids=tf.int64, probabilities=tf.float32))>"
      ]
     },
     "execution_count": 29,
     "metadata": {},
     "output_type": "execute_result"
    }
   ],
   "source": [
    "# Dataset generates trajectories with shape [Bx2x...]\n",
    "dataset = replay_buffer.as_dataset(\n",
    "    num_parallel_calls=3, \n",
    "    sample_batch_size=batch_size, \n",
    "    num_steps=2).prefetch(3)\n",
    "\n",
    "\n",
    "dataset"
   ]
  },
  {
   "cell_type": "code",
   "execution_count": 30,
   "metadata": {
    "colab": {},
    "colab_type": "code",
    "id": "K13AST-2ppOq"
   },
   "outputs": [
    {
     "name": "stdout",
     "output_type": "stream",
     "text": [
      "<tensorflow.python.data.ops.iterator_ops.OwnedIterator object at 0x7f3bcc1f4898>\n"
     ]
    }
   ],
   "source": [
    "iterator = iter(dataset)\n",
    "\n",
    "print(iterator)\n"
   ]
  },
  {
   "cell_type": "code",
   "execution_count": 31,
   "metadata": {
    "colab": {},
    "colab_type": "code",
    "id": "Th5w5Sff0b16"
   },
   "outputs": [],
   "source": [
    "# For the curious:\n",
    "# Uncomment to see what the dataset iterator is feeding to the agent.\n",
    "# Compare this representation of replay data \n",
    "# to the collection of individual trajectories shown earlier.\n",
    "\n",
    "# iterator.next()"
   ]
  },
  {
   "cell_type": "markdown",
   "metadata": {
    "colab_type": "text",
    "id": "hBc9lj9VWWtZ"
   },
   "source": [
    "## Training the agent\n",
    "\n",
    "Two things must happen during the training loop:\n",
    "\n",
    "-   collect data from the environment\n",
    "-   use that data to train the agent's neural network(s)\n",
    "\n",
    "This example also periodicially evaluates the policy and prints the current score.\n",
    "\n",
    "The following will take ~5 minutes to run."
   ]
  },
  {
   "cell_type": "code",
   "execution_count": 32,
   "metadata": {
    "colab": {},
    "colab_type": "code",
    "id": "0pTbJ3PeyF-u"
   },
   "outputs": [
    {
     "name": "stdout",
     "output_type": "stream",
     "text": [
      "step = 200: loss = 7.271472930908203\n"
     ]
    },
    {
     "name": "stdout",
     "output_type": "stream",
     "text": [
      "step = 400: loss = 16.107458114624023\n"
     ]
    },
    {
     "name": "stdout",
     "output_type": "stream",
     "text": [
      "step = 600: loss = 118.40227508544922\n"
     ]
    },
    {
     "name": "stdout",
     "output_type": "stream",
     "text": [
      "step = 800: loss = 309.5046691894531\n"
     ]
    },
    {
     "name": "stdout",
     "output_type": "stream",
     "text": [
      "step = 1000: loss = 289.1570129394531\n"
     ]
    },
    {
     "name": "stdout",
     "output_type": "stream",
     "text": [
      "step = 1000: Average Return = 162.60000610351562\n"
     ]
    },
    {
     "name": "stdout",
     "output_type": "stream",
     "text": [
      "step = 1200: loss = 823.7694091796875\n"
     ]
    },
    {
     "name": "stdout",
     "output_type": "stream",
     "text": [
      "step = 1400: loss = 2027.1971435546875\n"
     ]
    },
    {
     "name": "stdout",
     "output_type": "stream",
     "text": [
      "step = 1600: loss = 946.24658203125\n"
     ]
    },
    {
     "name": "stdout",
     "output_type": "stream",
     "text": [
      "step = 1800: loss = 393.8977355957031\n"
     ]
    },
    {
     "name": "stdout",
     "output_type": "stream",
     "text": [
      "step = 2000: loss = 2000.873046875\n"
     ]
    },
    {
     "name": "stdout",
     "output_type": "stream",
     "text": [
      "step = 2000: Average Return = 52.599998474121094\n"
     ]
    },
    {
     "name": "stdout",
     "output_type": "stream",
     "text": [
      "step = 2200: loss = 175.0901641845703\n"
     ]
    },
    {
     "name": "stdout",
     "output_type": "stream",
     "text": [
      "step = 2400: loss = 273.25341796875\n"
     ]
    },
    {
     "name": "stdout",
     "output_type": "stream",
     "text": [
      "step = 2600: loss = 2591.3798828125\n"
     ]
    },
    {
     "name": "stdout",
     "output_type": "stream",
     "text": [
      "step = 2800: loss = 152.83265686035156\n"
     ]
    },
    {
     "name": "stdout",
     "output_type": "stream",
     "text": [
      "step = 3000: loss = 1936.0728759765625\n"
     ]
    },
    {
     "name": "stdout",
     "output_type": "stream",
     "text": [
      "step = 3000: Average Return = 26.399999618530273\n"
     ]
    },
    {
     "name": "stdout",
     "output_type": "stream",
     "text": [
      "step = 3200: loss = 209.44723510742188\n"
     ]
    },
    {
     "name": "stdout",
     "output_type": "stream",
     "text": [
      "step = 3400: loss = 1566.943115234375\n"
     ]
    },
    {
     "name": "stdout",
     "output_type": "stream",
     "text": [
      "step = 3600: loss = 630.6491088867188\n"
     ]
    },
    {
     "name": "stdout",
     "output_type": "stream",
     "text": [
      "step = 3800: loss = 767.8441772460938\n"
     ]
    },
    {
     "name": "stdout",
     "output_type": "stream",
     "text": [
      "step = 4000: loss = 508.98345947265625\n"
     ]
    },
    {
     "name": "stdout",
     "output_type": "stream",
     "text": [
      "step = 4000: Average Return = 42.599998474121094\n"
     ]
    },
    {
     "name": "stdout",
     "output_type": "stream",
     "text": [
      "step = 4200: loss = 752.710693359375\n"
     ]
    },
    {
     "name": "stdout",
     "output_type": "stream",
     "text": [
      "step = 4400: loss = 363.8679504394531\n"
     ]
    },
    {
     "name": "stdout",
     "output_type": "stream",
     "text": [
      "step = 4600: loss = 603.786865234375\n"
     ]
    },
    {
     "name": "stdout",
     "output_type": "stream",
     "text": [
      "step = 4800: loss = 28.982707977294922\n"
     ]
    },
    {
     "name": "stdout",
     "output_type": "stream",
     "text": [
      "step = 5000: loss = 23.120849609375\n"
     ]
    },
    {
     "name": "stdout",
     "output_type": "stream",
     "text": [
      "step = 5000: Average Return = 65.0\n"
     ]
    },
    {
     "name": "stdout",
     "output_type": "stream",
     "text": [
      "step = 5200: loss = 66.53056335449219\n"
     ]
    },
    {
     "name": "stdout",
     "output_type": "stream",
     "text": [
      "step = 5400: loss = 168.55474853515625\n"
     ]
    },
    {
     "name": "stdout",
     "output_type": "stream",
     "text": [
      "step = 5600: loss = 87.38054656982422\n"
     ]
    },
    {
     "name": "stdout",
     "output_type": "stream",
     "text": [
      "step = 5800: loss = 93.24928283691406\n"
     ]
    },
    {
     "name": "stdout",
     "output_type": "stream",
     "text": [
      "step = 6000: loss = 191.4639892578125\n"
     ]
    },
    {
     "name": "stdout",
     "output_type": "stream",
     "text": [
      "step = 6000: Average Return = 49.900001525878906\n"
     ]
    },
    {
     "name": "stdout",
     "output_type": "stream",
     "text": [
      "step = 6200: loss = 105.91390991210938\n"
     ]
    },
    {
     "name": "stdout",
     "output_type": "stream",
     "text": [
      "step = 6400: loss = 47.351165771484375\n"
     ]
    },
    {
     "name": "stdout",
     "output_type": "stream",
     "text": [
      "step = 6600: loss = 88.13796997070312\n"
     ]
    },
    {
     "name": "stdout",
     "output_type": "stream",
     "text": [
      "step = 6800: loss = 71.17057800292969\n"
     ]
    },
    {
     "name": "stdout",
     "output_type": "stream",
     "text": [
      "step = 7000: loss = 525.8966064453125\n"
     ]
    },
    {
     "name": "stdout",
     "output_type": "stream",
     "text": [
      "step = 7000: Average Return = 18.700000762939453\n"
     ]
    },
    {
     "name": "stdout",
     "output_type": "stream",
     "text": [
      "step = 7200: loss = 110.9851303100586\n"
     ]
    },
    {
     "name": "stdout",
     "output_type": "stream",
     "text": [
      "step = 7400: loss = 87.06258392333984\n"
     ]
    },
    {
     "name": "stdout",
     "output_type": "stream",
     "text": [
      "step = 7600: loss = 102.72260284423828\n"
     ]
    },
    {
     "name": "stdout",
     "output_type": "stream",
     "text": [
      "step = 7800: loss = 54.91393280029297\n"
     ]
    },
    {
     "name": "stdout",
     "output_type": "stream",
     "text": [
      "step = 8000: loss = 100.33734130859375\n"
     ]
    },
    {
     "name": "stdout",
     "output_type": "stream",
     "text": [
      "step = 8000: Average Return = 16.100000381469727\n"
     ]
    },
    {
     "name": "stdout",
     "output_type": "stream",
     "text": [
      "step = 8200: loss = 36.66551971435547\n"
     ]
    },
    {
     "name": "stdout",
     "output_type": "stream",
     "text": [
      "step = 8400: loss = 212.24395751953125\n"
     ]
    },
    {
     "name": "stdout",
     "output_type": "stream",
     "text": [
      "step = 8600: loss = 133.2703857421875\n"
     ]
    },
    {
     "name": "stdout",
     "output_type": "stream",
     "text": [
      "step = 8800: loss = 89.03622436523438\n"
     ]
    },
    {
     "name": "stdout",
     "output_type": "stream",
     "text": [
      "step = 9000: loss = 531.134521484375\n"
     ]
    },
    {
     "name": "stdout",
     "output_type": "stream",
     "text": [
      "step = 9000: Average Return = 33.400001525878906\n"
     ]
    },
    {
     "name": "stdout",
     "output_type": "stream",
     "text": [
      "step = 9200: loss = 3865.49365234375\n"
     ]
    },
    {
     "name": "stdout",
     "output_type": "stream",
     "text": [
      "step = 9400: loss = 95.14530944824219\n"
     ]
    },
    {
     "name": "stdout",
     "output_type": "stream",
     "text": [
      "step = 9600: loss = 3612.396484375\n"
     ]
    },
    {
     "name": "stdout",
     "output_type": "stream",
     "text": [
      "step = 9800: loss = 65.28089904785156\n"
     ]
    },
    {
     "name": "stdout",
     "output_type": "stream",
     "text": [
      "step = 10000: loss = 133.4741668701172\n"
     ]
    },
    {
     "name": "stdout",
     "output_type": "stream",
     "text": [
      "step = 10000: Average Return = 22.299999237060547\n"
     ]
    },
    {
     "name": "stdout",
     "output_type": "stream",
     "text": [
      "step = 10200: loss = 109.11979675292969\n"
     ]
    },
    {
     "name": "stdout",
     "output_type": "stream",
     "text": [
      "step = 10400: loss = 89.59709930419922\n"
     ]
    },
    {
     "name": "stdout",
     "output_type": "stream",
     "text": [
      "step = 10600: loss = 82.05484008789062\n"
     ]
    },
    {
     "name": "stdout",
     "output_type": "stream",
     "text": [
      "step = 10800: loss = 208.7845001220703\n"
     ]
    },
    {
     "name": "stdout",
     "output_type": "stream",
     "text": [
      "step = 11000: loss = 46.07347106933594\n"
     ]
    },
    {
     "name": "stdout",
     "output_type": "stream",
     "text": [
      "step = 11000: Average Return = 16.0\n"
     ]
    },
    {
     "name": "stdout",
     "output_type": "stream",
     "text": [
      "step = 11200: loss = 42.30530548095703\n"
     ]
    },
    {
     "name": "stdout",
     "output_type": "stream",
     "text": [
      "step = 11400: loss = 150.30064392089844\n"
     ]
    },
    {
     "name": "stdout",
     "output_type": "stream",
     "text": [
      "step = 11600: loss = 174.80587768554688\n"
     ]
    },
    {
     "name": "stdout",
     "output_type": "stream",
     "text": [
      "step = 11800: loss = 154.945556640625\n"
     ]
    },
    {
     "name": "stdout",
     "output_type": "stream",
     "text": [
      "step = 12000: loss = 8173.28369140625\n"
     ]
    },
    {
     "name": "stdout",
     "output_type": "stream",
     "text": [
      "step = 12000: Average Return = 67.0\n"
     ]
    },
    {
     "name": "stdout",
     "output_type": "stream",
     "text": [
      "step = 12200: loss = 105.27813720703125\n"
     ]
    },
    {
     "name": "stdout",
     "output_type": "stream",
     "text": [
      "step = 12400: loss = 187.780517578125\n"
     ]
    },
    {
     "name": "stdout",
     "output_type": "stream",
     "text": [
      "step = 12600: loss = 413.2526550292969\n"
     ]
    },
    {
     "name": "stdout",
     "output_type": "stream",
     "text": [
      "step = 12800: loss = 7414.9013671875\n"
     ]
    },
    {
     "name": "stdout",
     "output_type": "stream",
     "text": [
      "step = 13000: loss = 7637.66845703125\n"
     ]
    },
    {
     "name": "stdout",
     "output_type": "stream",
     "text": [
      "step = 13000: Average Return = 24.200000762939453\n"
     ]
    },
    {
     "name": "stdout",
     "output_type": "stream",
     "text": [
      "step = 13200: loss = 761.740234375\n"
     ]
    },
    {
     "name": "stdout",
     "output_type": "stream",
     "text": [
      "step = 13400: loss = 718.4118041992188\n"
     ]
    },
    {
     "name": "stdout",
     "output_type": "stream",
     "text": [
      "step = 13600: loss = 114.23948669433594\n"
     ]
    },
    {
     "name": "stdout",
     "output_type": "stream",
     "text": [
      "step = 13800: loss = 856.1566162109375\n"
     ]
    },
    {
     "name": "stdout",
     "output_type": "stream",
     "text": [
      "step = 14000: loss = 377.7228698730469\n"
     ]
    },
    {
     "name": "stdout",
     "output_type": "stream",
     "text": [
      "step = 14000: Average Return = 47.29999923706055\n"
     ]
    },
    {
     "name": "stdout",
     "output_type": "stream",
     "text": [
      "step = 14200: loss = 425.98785400390625\n"
     ]
    },
    {
     "name": "stdout",
     "output_type": "stream",
     "text": [
      "step = 14400: loss = 157.39088439941406\n"
     ]
    },
    {
     "name": "stdout",
     "output_type": "stream",
     "text": [
      "step = 14600: loss = 210.12271118164062\n"
     ]
    },
    {
     "name": "stdout",
     "output_type": "stream",
     "text": [
      "step = 14800: loss = 348.72637939453125\n"
     ]
    },
    {
     "name": "stdout",
     "output_type": "stream",
     "text": [
      "step = 15000: loss = 450.41943359375\n"
     ]
    },
    {
     "name": "stdout",
     "output_type": "stream",
     "text": [
      "step = 15000: Average Return = 19.200000762939453\n"
     ]
    },
    {
     "name": "stdout",
     "output_type": "stream",
     "text": [
      "step = 15200: loss = 91.37750244140625\n"
     ]
    },
    {
     "name": "stdout",
     "output_type": "stream",
     "text": [
      "step = 15400: loss = 96.49124908447266\n"
     ]
    },
    {
     "name": "stdout",
     "output_type": "stream",
     "text": [
      "step = 15600: loss = 96.59413146972656\n"
     ]
    },
    {
     "name": "stdout",
     "output_type": "stream",
     "text": [
      "step = 15800: loss = 106.01812744140625\n"
     ]
    },
    {
     "name": "stdout",
     "output_type": "stream",
     "text": [
      "step = 16000: loss = 140.29470825195312\n"
     ]
    },
    {
     "name": "stdout",
     "output_type": "stream",
     "text": [
      "step = 16000: Average Return = 20.299999237060547\n"
     ]
    },
    {
     "name": "stdout",
     "output_type": "stream",
     "text": [
      "step = 16200: loss = 397.5931091308594\n"
     ]
    },
    {
     "name": "stdout",
     "output_type": "stream",
     "text": [
      "step = 16400: loss = 208.6700897216797\n"
     ]
    },
    {
     "name": "stdout",
     "output_type": "stream",
     "text": [
      "step = 16600: loss = 89.70021057128906\n"
     ]
    },
    {
     "name": "stdout",
     "output_type": "stream",
     "text": [
      "step = 16800: loss = 103.64916229248047\n"
     ]
    },
    {
     "name": "stdout",
     "output_type": "stream",
     "text": [
      "step = 17000: loss = 184.55992126464844\n"
     ]
    },
    {
     "name": "stdout",
     "output_type": "stream",
     "text": [
      "step = 17000: Average Return = 23.5\n"
     ]
    },
    {
     "name": "stdout",
     "output_type": "stream",
     "text": [
      "step = 17200: loss = 82.64599609375\n"
     ]
    },
    {
     "name": "stdout",
     "output_type": "stream",
     "text": [
      "step = 17400: loss = 343.134033203125\n"
     ]
    },
    {
     "name": "stdout",
     "output_type": "stream",
     "text": [
      "step = 17600: loss = 160.8577880859375\n"
     ]
    },
    {
     "name": "stdout",
     "output_type": "stream",
     "text": [
      "step = 17800: loss = 19507.083984375\n"
     ]
    },
    {
     "name": "stdout",
     "output_type": "stream",
     "text": [
      "step = 18000: loss = 1829.780029296875\n"
     ]
    },
    {
     "name": "stdout",
     "output_type": "stream",
     "text": [
      "step = 18000: Average Return = 32.20000076293945\n"
     ]
    },
    {
     "name": "stdout",
     "output_type": "stream",
     "text": [
      "step = 18200: loss = 803.7889404296875\n"
     ]
    },
    {
     "name": "stdout",
     "output_type": "stream",
     "text": [
      "step = 18400: loss = 838.5554809570312\n"
     ]
    },
    {
     "name": "stdout",
     "output_type": "stream",
     "text": [
      "step = 18600: loss = 456.93017578125\n"
     ]
    },
    {
     "name": "stdout",
     "output_type": "stream",
     "text": [
      "step = 18800: loss = 912.6376953125\n"
     ]
    },
    {
     "name": "stdout",
     "output_type": "stream",
     "text": [
      "step = 19000: loss = 161.77871704101562\n"
     ]
    },
    {
     "name": "stdout",
     "output_type": "stream",
     "text": [
      "step = 19000: Average Return = 29.200000762939453\n"
     ]
    },
    {
     "name": "stdout",
     "output_type": "stream",
     "text": [
      "step = 19200: loss = 117.10322570800781\n"
     ]
    },
    {
     "name": "stdout",
     "output_type": "stream",
     "text": [
      "step = 19400: loss = 318.7609558105469\n"
     ]
    },
    {
     "name": "stdout",
     "output_type": "stream",
     "text": [
      "step = 19600: loss = 300.47637939453125\n"
     ]
    },
    {
     "name": "stdout",
     "output_type": "stream",
     "text": [
      "step = 19800: loss = 177.61358642578125\n"
     ]
    },
    {
     "name": "stdout",
     "output_type": "stream",
     "text": [
      "step = 20000: loss = 90.32322692871094\n"
     ]
    },
    {
     "name": "stdout",
     "output_type": "stream",
     "text": [
      "step = 20000: Average Return = 25.799999237060547\n"
     ]
    }
   ],
   "source": [
    "#@test {\"skip\": true}\n",
    "try:\n",
    "  %%time\n",
    "except:\n",
    "  pass\n",
    "\n",
    "# (Optional) Optimize by wrapping some of the code in a graph using TF function.\n",
    "agent.train = common.function(agent.train)\n",
    "\n",
    "# Reset the train step\n",
    "agent.train_step_counter.assign(0)\n",
    "\n",
    "# Evaluate the agent's policy once before training.\n",
    "avg_return = compute_avg_return(eval_env, agent.policy, num_eval_episodes)\n",
    "returns = [avg_return]\n",
    "\n",
    "for _ in range(num_iterations):\n",
    "\n",
    "  # Collect a few steps using collect_policy and save to the replay buffer.\n",
    "  for _ in range(collect_steps_per_iteration):\n",
    "    collect_step(train_env, agent.collect_policy, replay_buffer)\n",
    "\n",
    "  # Sample a batch of data from the buffer and update the agent's network.\n",
    "  experience, unused_info = next(iterator)\n",
    "  train_loss = agent.train(experience).loss\n",
    "\n",
    "  step = agent.train_step_counter.numpy()\n",
    "\n",
    "  if step % log_interval == 0:\n",
    "    print('step = {0}: loss = {1}'.format(step, train_loss))\n",
    "\n",
    "  if step % eval_interval == 0:\n",
    "    avg_return = compute_avg_return(eval_env, agent.policy, num_eval_episodes)\n",
    "    print('step = {0}: Average Return = {1}'.format(step, avg_return))\n",
    "    returns.append(avg_return)"
   ]
  },
  {
   "cell_type": "markdown",
   "metadata": {
    "colab_type": "text",
    "id": "68jNcA_TiJDq"
   },
   "source": [
    "## Visualization\n"
   ]
  },
  {
   "cell_type": "markdown",
   "metadata": {
    "colab_type": "text",
    "id": "aO-LWCdbbOIC"
   },
   "source": [
    "### Plots\n",
    "\n",
    "Use `matplotlib.pyplot` to chart how the policy improved during training.\n",
    "\n",
    "One iteration of `Cartpole-v0` consists of 200 time steps. The environment gives a reward of `+1` for each step the pole stays up, so the maximum return for one episode is 200. The charts shows the return increasing towards that maximum each time it is evaluated during training. (It may be a little unstable and not increase monotonically each time.)"
   ]
  },
  {
   "cell_type": "code",
   "execution_count": 33,
   "metadata": {
    "colab": {},
    "colab_type": "code",
    "id": "NxtL1mbOYCVO"
   },
   "outputs": [
    {
     "data": {
      "text/plain": [
       "(6.675000095367431, 250.0)"
      ]
     },
     "execution_count": 33,
     "metadata": {},
     "output_type": "execute_result"
    },
    {
     "data": {
      "image/png": "[encoded data removed]",
      "text/plain": [
       "<Figure size 432x288 with 1 Axes>"
      ]
     },
     "metadata": {
      "needs_background": "light"
     },
     "output_type": "display_data"
    }
   ],
   "source": [
    "#@test {\"skip\": true}\n",
    "\n",
    "iterations = range(0, num_iterations + 1, eval_interval)\n",
    "plt.plot(iterations, returns)\n",
    "plt.ylabel('Average Return')\n",
    "plt.xlabel('Iterations')\n",
    "plt.ylim(top=250)"
   ]
  },
  {
   "cell_type": "markdown",
   "metadata": {
    "colab_type": "text",
    "id": "M7-XpPP99Cy7"
   },
   "source": [
    "### Videos"
   ]
  },
  {
   "cell_type": "markdown",
   "metadata": {
    "colab_type": "text",
    "id": "9pGfGxSH32gn"
   },
   "source": [
    "Charts are nice. But more exciting is seeing an agent actually performing a task in an environment. \n",
    "\n",
    "First, create a function to embed videos in the notebook."
   ]
  },
  {
   "cell_type": "code",
   "execution_count": 34,
   "metadata": {
    "colab": {},
    "colab_type": "code",
    "id": "ULaGr8pvOKbl"
   },
   "outputs": [],
   "source": [
    "def embed_mp4(filename):\n",
    "  \"\"\"Embeds an mp4 file in the notebook.\"\"\"\n",
    "  video = open(filename,'rb').read()\n",
    "  b64 = base64.b64encode(video)\n",
    "  tag = '''\n",
    "  <video width=\"640\" height=\"480\" controls>\n",
    "    <source src=\"data:video/mp4;base64,{0}\" type=\"video/mp4\">\n",
    "  Your browser does not support the video tag.\n",
    "  </video>'''.format(b64.decode())\n",
    "\n",
    "  return IPython.display.HTML(tag)"
   ]
  },
  {
   "cell_type": "markdown",
   "metadata": {
    "colab_type": "text",
    "id": "9c_PH-pX4Pr5"
   },
   "source": [
    "Now iterate through a few episodes of the Cartpole game with the agent. The underlying Python environment (the one \"inside\" the TensorFlow environment wrapper) provides a `render()` method, which outputs an image of the environment state. These can be collected into a video."
   ]
  },
  {
   "cell_type": "code",
   "execution_count": 35,
   "metadata": {
    "colab": {},
    "colab_type": "code",
    "id": "owOVWB158NlF"
   },
   "outputs": [
    {
     "name": "stderr",
     "output_type": "stream",
     "text": [
      "WARNING:root:IMAGEIO FFMPEG_WRITER WARNING: input image is not divisible by macro_block_size=16, resizing from (400, 600) to (400, 608) to ensure video compatibility with most codecs and players. To prevent resizing, make your input image divisible by the macro_block_size or set the macro_block_size to None (risking incompatibility). You may also see a FFMPEG warning concerning speedloss due to data not being aligned.\n"
     ]
    },
    {
     "data": {
      "text/html": [
       "\n",
       "  <video width=\"640\" height=\"480\" controls>\n",
       "    <source src=\"data:video/mp4;base64,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\" type=\"video/mp4\">\n",
       "  Your browser does not support the video tag.\n",
       "  </video>"
      ],
      "text/plain": [
       "<IPython.core.display.HTML object>"
      ]
     },
     "execution_count": 35,
     "metadata": {},
     "output_type": "execute_result"
    }
   ],
   "source": [
    "def create_policy_eval_video(policy, filename, num_episodes=5, fps=30):\n",
    "  filename = filename + \".mp4\"\n",
    "  with imageio.get_writer(filename, fps=fps) as video:\n",
    "    for _ in range(num_episodes):\n",
    "      time_step = eval_env.reset()\n",
    "      video.append_data(eval_py_env.render())\n",
    "      while not time_step.is_last():\n",
    "        action_step = policy.action(time_step)\n",
    "        time_step = eval_env.step(action_step.action)\n",
    "        video.append_data(eval_py_env.render())\n",
    "  return embed_mp4(filename)\n",
    "\n",
    "\n",
    "\n",
    "\n",
    "create_policy_eval_video(agent.policy, \"trained-agent\")"
   ]
  },
  {
   "cell_type": "markdown",
   "metadata": {
    "colab_type": "text",
    "id": "povaAOcZygLw"
   },
   "source": [
    "For fun, compare the trained agent (above) to an agent moving randomly. (It does not do as well.)"
   ]
  },
  {
   "cell_type": "code",
   "execution_count": 36,
   "metadata": {
    "colab": {},
    "colab_type": "code",
    "id": "pJZIdC37yNH4"
   },
   "outputs": [
    {
     "name": "stderr",
     "output_type": "stream",
     "text": [
      "WARNING:root:IMAGEIO FFMPEG_WRITER WARNING: input image is not divisible by macro_block_size=16, resizing from (400, 600) to (400, 608) to ensure video compatibility with most codecs and players. To prevent resizing, make your input image divisible by the macro_block_size or set the macro_block_size to None (risking incompatibility). You may also see a FFMPEG warning concerning speedloss due to data not being aligned.\n"
     ]
    },
    {
     "data": {
      "text/html": [
       "\n",
       "  <video width=\"640\" height=\"480\" controls>\n",
       "    <source src=\"data:video/mp4;base64,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\" type=\"video/mp4\">\n",
       "  Your browser does not support the video tag.\n",
       "  </video>"
      ],
      "text/plain": [
       "<IPython.core.display.HTML object>"
      ]
     },
     "execution_count": 36,
     "metadata": {},
     "output_type": "execute_result"
    }
   ],
   "source": [
    "create_policy_eval_video(random_policy, \"random-agent\")"
   ]
  }
 ],
 "metadata": {
  "colab": {
   "collapsed_sections": [],
   "name": "DQN Tutorial.ipynb",
   "private_outputs": true,
   "provenance": [],
   "toc_visible": true
  },
  "kernelspec": {
   "display_name": "Python 3",
   "language": "python",
   "name": "python3"
  },
  "language_info": {
   "codemirror_mode": {
    "name": "ipython",
    "version": 3
   },
   "file_extension": ".py",
   "mimetype": "text/x-python",
   "name": "python",
   "nbconvert_exporter": "python",
   "pygments_lexer": "ipython3",
   "version": "3.6.9"
  },
  "pycharm": {
   "stem_cell": {
    "cell_type": "raw",
    "metadata": {
     "collapsed": false
    },
    "source": []
   }
  }
 },
 "nbformat": 4,
 "nbformat_minor": 0
}
